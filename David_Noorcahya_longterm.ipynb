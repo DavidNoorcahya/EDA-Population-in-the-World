{
  "nbformat": 4,
  "nbformat_minor": 0,
  "metadata": {
    "colab": {
      "name": "David Noorcahya_longterm.ipynb",
      "provenance": [],
      "collapsed_sections": [
        "3vYlOnn4OMRr",
        "EgerYR5QHziJ",
        "YnG1fDAgIdN1",
        "6s3eA2nLJsVN",
        "sz8zappAp3HT",
        "BWC10O_CQuEm",
        "6AEIvLCBQ59P",
        "hbTVmUeewXvj",
        "wa3M4iJDmNFf",
        "NsMoPtGkqwf-"
      ]
    },
    "kernelspec": {
      "name": "python3",
      "display_name": "Python 3"
    },
    "language_info": {
      "name": "python"
    }
  },
  "cells": [
    {
      "cell_type": "markdown",
      "metadata": {
        "id": "_Gt5tVIIN3m7"
      },
      "source": [
        "Author: David Noorcahya"
      ]
    },
    {
      "cell_type": "markdown",
      "metadata": {
        "id": "3vYlOnn4OMRr"
      },
      "source": [
        "#Import Google Drive"
      ]
    },
    {
      "cell_type": "code",
      "metadata": {
        "colab": {
          "base_uri": "https://localhost:8080/"
        },
        "id": "ciyu4hU0G8bf",
        "outputId": "cbdd8706-0321-432a-ff62-c12e0a8aa434"
      },
      "source": [
        "from google.colab import drive\n",
        "drive.mount('/content/gdrive')"
      ],
      "execution_count": 1,
      "outputs": [
        {
          "output_type": "stream",
          "name": "stdout",
          "text": [
            "Mounted at /content/gdrive\n"
          ]
        }
      ]
    },
    {
      "cell_type": "code",
      "metadata": {
        "colab": {
          "base_uri": "https://localhost:8080/"
        },
        "id": "U-P--n7ZHEd8",
        "outputId": "191fd4bd-66ec-4c59-8083-ad6a2c022538"
      },
      "source": [
        "%cd /content/gdrive/MyDrive/Colab Notebooks/"
      ],
      "execution_count": 2,
      "outputs": [
        {
          "output_type": "stream",
          "name": "stdout",
          "text": [
            "/content/gdrive/MyDrive/Colab Notebooks\n"
          ]
        }
      ]
    },
    {
      "cell_type": "markdown",
      "metadata": {
        "id": "EgerYR5QHziJ"
      },
      "source": [
        "#Import Packages and Dataset"
      ]
    },
    {
      "cell_type": "code",
      "metadata": {
        "id": "me6KkK-lH35G"
      },
      "source": [
        "import pandas as pd\n",
        "import numpy as np\n",
        "import re\n",
        "\n",
        "import matplotlib.pyplot as plt\n",
        "import seaborn as sns\n",
        "sns.set()"
      ],
      "execution_count": 36,
      "outputs": []
    },
    {
      "cell_type": "code",
      "metadata": {
        "id": "ZrTrVPISH-F2"
      },
      "source": [
        "df = pd.read_csv('2021population.csv')"
      ],
      "execution_count": 37,
      "outputs": []
    },
    {
      "cell_type": "markdown",
      "metadata": {
        "id": "YnG1fDAgIdN1"
      },
      "source": [
        "#Initial EDA"
      ]
    },
    {
      "cell_type": "code",
      "metadata": {
        "colab": {
          "base_uri": "https://localhost:8080/",
          "height": 205
        },
        "id": "4WVyM_lAZl75",
        "outputId": "70df8bc4-d4c2-48ab-c6a6-cc5f57d67a02"
      },
      "source": [
        "df.head(5)"
      ],
      "execution_count": 38,
      "outputs": [
        {
          "output_type": "execute_result",
          "data": {
            "text/html": [
              "<div>\n",
              "<style scoped>\n",
              "    .dataframe tbody tr th:only-of-type {\n",
              "        vertical-align: middle;\n",
              "    }\n",
              "\n",
              "    .dataframe tbody tr th {\n",
              "        vertical-align: top;\n",
              "    }\n",
              "\n",
              "    .dataframe thead th {\n",
              "        text-align: right;\n",
              "    }\n",
              "</style>\n",
              "<table border=\"1\" class=\"dataframe\">\n",
              "  <thead>\n",
              "    <tr style=\"text-align: right;\">\n",
              "      <th></th>\n",
              "      <th>iso_code</th>\n",
              "      <th>country</th>\n",
              "      <th>2021_last_updated</th>\n",
              "      <th>2020_population</th>\n",
              "      <th>area</th>\n",
              "      <th>density_sq_km</th>\n",
              "      <th>growth_rate</th>\n",
              "      <th>world_%</th>\n",
              "      <th>rank</th>\n",
              "    </tr>\n",
              "  </thead>\n",
              "  <tbody>\n",
              "    <tr>\n",
              "      <th>0</th>\n",
              "      <td>CHN</td>\n",
              "      <td>China</td>\n",
              "      <td>1,444,751,667</td>\n",
              "      <td>1,439,323,776</td>\n",
              "      <td>9,706,961 sq_km</td>\n",
              "      <td>149/sq_km</td>\n",
              "      <td>0.34%</td>\n",
              "      <td>18.34%</td>\n",
              "      <td>1</td>\n",
              "    </tr>\n",
              "    <tr>\n",
              "      <th>1</th>\n",
              "      <td>IND</td>\n",
              "      <td>India</td>\n",
              "      <td>1,394,894,266</td>\n",
              "      <td>1,380,004,385</td>\n",
              "      <td>3,287,590 sq_km</td>\n",
              "      <td>424/sq_km</td>\n",
              "      <td>0.97%</td>\n",
              "      <td>17.69%</td>\n",
              "      <td>2</td>\n",
              "    </tr>\n",
              "    <tr>\n",
              "      <th>2</th>\n",
              "      <td>USA</td>\n",
              "      <td>United States</td>\n",
              "      <td>333,129,986</td>\n",
              "      <td>331,002,651</td>\n",
              "      <td>9,372,610 sq_km</td>\n",
              "      <td>36/sq_km</td>\n",
              "      <td>0.58%</td>\n",
              "      <td>4.23%</td>\n",
              "      <td>3</td>\n",
              "    </tr>\n",
              "    <tr>\n",
              "      <th>3</th>\n",
              "      <td>IDN</td>\n",
              "      <td>Indonesia</td>\n",
              "      <td>276,676,718</td>\n",
              "      <td>273,523,615</td>\n",
              "      <td>1,904,569 sq_km</td>\n",
              "      <td>145/sq_km</td>\n",
              "      <td>1.04%</td>\n",
              "      <td>3.51%</td>\n",
              "      <td>4</td>\n",
              "    </tr>\n",
              "    <tr>\n",
              "      <th>4</th>\n",
              "      <td>PAK</td>\n",
              "      <td>Pakistan</td>\n",
              "      <td>225,674,528</td>\n",
              "      <td>220,892,340</td>\n",
              "      <td>881,912 sq_km</td>\n",
              "      <td>255/sq_km</td>\n",
              "      <td>1.95%</td>\n",
              "      <td>2.86%</td>\n",
              "      <td>5</td>\n",
              "    </tr>\n",
              "  </tbody>\n",
              "</table>\n",
              "</div>"
            ],
            "text/plain": [
              "  iso_code        country 2021_last_updated  ... growth_rate world_% rank\n",
              "0      CHN          China     1,444,751,667  ...       0.34%  18.34%    1\n",
              "1      IND          India     1,394,894,266  ...       0.97%  17.69%    2\n",
              "2      USA  United States       333,129,986  ...       0.58%   4.23%    3\n",
              "3      IDN      Indonesia       276,676,718  ...       1.04%   3.51%    4\n",
              "4      PAK       Pakistan       225,674,528  ...       1.95%   2.86%    5\n",
              "\n",
              "[5 rows x 9 columns]"
            ]
          },
          "metadata": {},
          "execution_count": 38
        }
      ]
    },
    {
      "cell_type": "code",
      "metadata": {
        "colab": {
          "base_uri": "https://localhost:8080/",
          "height": 205
        },
        "id": "qeq_civOZokz",
        "outputId": "0714c438-2af8-45ab-a324-fca50dabf400"
      },
      "source": [
        "df.tail(5)"
      ],
      "execution_count": 39,
      "outputs": [
        {
          "output_type": "execute_result",
          "data": {
            "text/html": [
              "<div>\n",
              "<style scoped>\n",
              "    .dataframe tbody tr th:only-of-type {\n",
              "        vertical-align: middle;\n",
              "    }\n",
              "\n",
              "    .dataframe tbody tr th {\n",
              "        vertical-align: top;\n",
              "    }\n",
              "\n",
              "    .dataframe thead th {\n",
              "        text-align: right;\n",
              "    }\n",
              "</style>\n",
              "<table border=\"1\" class=\"dataframe\">\n",
              "  <thead>\n",
              "    <tr style=\"text-align: right;\">\n",
              "      <th></th>\n",
              "      <th>iso_code</th>\n",
              "      <th>country</th>\n",
              "      <th>2021_last_updated</th>\n",
              "      <th>2020_population</th>\n",
              "      <th>area</th>\n",
              "      <th>density_sq_km</th>\n",
              "      <th>growth_rate</th>\n",
              "      <th>world_%</th>\n",
              "      <th>rank</th>\n",
              "    </tr>\n",
              "  </thead>\n",
              "  <tbody>\n",
              "    <tr>\n",
              "      <th>223</th>\n",
              "      <td>MSR</td>\n",
              "      <td>Montserrat</td>\n",
              "      <td>4,977</td>\n",
              "      <td>4,992</td>\n",
              "      <td>102 sq_km</td>\n",
              "      <td>49/sq_km</td>\n",
              "      <td>-0.30%</td>\n",
              "      <td>0.00%</td>\n",
              "      <td>228</td>\n",
              "    </tr>\n",
              "    <tr>\n",
              "      <th>224</th>\n",
              "      <td>FLK</td>\n",
              "      <td>Falkland Islands</td>\n",
              "      <td>3,533</td>\n",
              "      <td>3,480</td>\n",
              "      <td>12,173 sq_km</td>\n",
              "      <td>0/sq_km</td>\n",
              "      <td>1.52%</td>\n",
              "      <td>0.00%</td>\n",
              "      <td>229</td>\n",
              "    </tr>\n",
              "    <tr>\n",
              "      <th>225</th>\n",
              "      <td>NIU</td>\n",
              "      <td>Niue</td>\n",
              "      <td>1,619</td>\n",
              "      <td>1,626</td>\n",
              "      <td>260 sq_km</td>\n",
              "      <td>6/sq_km</td>\n",
              "      <td>-0.43%</td>\n",
              "      <td>0.00%</td>\n",
              "      <td>230</td>\n",
              "    </tr>\n",
              "    <tr>\n",
              "      <th>226</th>\n",
              "      <td>TKL</td>\n",
              "      <td>Tokelau</td>\n",
              "      <td>1,373</td>\n",
              "      <td>1,357</td>\n",
              "      <td>12 sq_km</td>\n",
              "      <td>114/sq_km</td>\n",
              "      <td>1.18%</td>\n",
              "      <td>0.00%</td>\n",
              "      <td>231</td>\n",
              "    </tr>\n",
              "    <tr>\n",
              "      <th>227</th>\n",
              "      <td>VAT</td>\n",
              "      <td>Vatican City</td>\n",
              "      <td>800</td>\n",
              "      <td>801</td>\n",
              "      <td>1 sq_km</td>\n",
              "      <td>800/sq_km</td>\n",
              "      <td>-0.12%</td>\n",
              "      <td>0.00%</td>\n",
              "      <td>232</td>\n",
              "    </tr>\n",
              "  </tbody>\n",
              "</table>\n",
              "</div>"
            ],
            "text/plain": [
              "    iso_code           country 2021_last_updated  ... growth_rate world_% rank\n",
              "223      MSR        Montserrat             4,977  ...      -0.30%   0.00%  228\n",
              "224      FLK  Falkland Islands             3,533  ...       1.52%   0.00%  229\n",
              "225      NIU              Niue             1,619  ...      -0.43%   0.00%  230\n",
              "226      TKL           Tokelau             1,373  ...       1.18%   0.00%  231\n",
              "227      VAT      Vatican City               800  ...      -0.12%   0.00%  232\n",
              "\n",
              "[5 rows x 9 columns]"
            ]
          },
          "metadata": {},
          "execution_count": 39
        }
      ]
    },
    {
      "cell_type": "code",
      "metadata": {
        "colab": {
          "base_uri": "https://localhost:8080/",
          "height": 205
        },
        "id": "xU8c1349IQal",
        "outputId": "ed6afad5-e68e-43c3-f92f-d2b8bde44dbd"
      },
      "source": [
        "df.sample(5)"
      ],
      "execution_count": 40,
      "outputs": [
        {
          "output_type": "execute_result",
          "data": {
            "text/html": [
              "<div>\n",
              "<style scoped>\n",
              "    .dataframe tbody tr th:only-of-type {\n",
              "        vertical-align: middle;\n",
              "    }\n",
              "\n",
              "    .dataframe tbody tr th {\n",
              "        vertical-align: top;\n",
              "    }\n",
              "\n",
              "    .dataframe thead th {\n",
              "        text-align: right;\n",
              "    }\n",
              "</style>\n",
              "<table border=\"1\" class=\"dataframe\">\n",
              "  <thead>\n",
              "    <tr style=\"text-align: right;\">\n",
              "      <th></th>\n",
              "      <th>iso_code</th>\n",
              "      <th>country</th>\n",
              "      <th>2021_last_updated</th>\n",
              "      <th>2020_population</th>\n",
              "      <th>area</th>\n",
              "      <th>density_sq_km</th>\n",
              "      <th>growth_rate</th>\n",
              "      <th>world_%</th>\n",
              "      <th>rank</th>\n",
              "    </tr>\n",
              "  </thead>\n",
              "  <tbody>\n",
              "    <tr>\n",
              "      <th>208</th>\n",
              "      <td>MAF</td>\n",
              "      <td>Sint Maarten</td>\n",
              "      <td>43,412</td>\n",
              "      <td>42,876</td>\n",
              "      <td>34 sq_km</td>\n",
              "      <td>1,277/sq_km</td>\n",
              "      <td>1.25%</td>\n",
              "      <td>0.00%</td>\n",
              "      <td>212</td>\n",
              "    </tr>\n",
              "    <tr>\n",
              "      <th>63</th>\n",
              "      <td>KAZ</td>\n",
              "      <td>Kazakhstan</td>\n",
              "      <td>19,019,066</td>\n",
              "      <td>18,776,707</td>\n",
              "      <td>2,724,900 sq_km</td>\n",
              "      <td>7/sq_km</td>\n",
              "      <td>1.16%</td>\n",
              "      <td>0.24%</td>\n",
              "      <td>64</td>\n",
              "    </tr>\n",
              "    <tr>\n",
              "      <th>31</th>\n",
              "      <td>ARG</td>\n",
              "      <td>Argentina</td>\n",
              "      <td>45,651,239</td>\n",
              "      <td>45,195,774</td>\n",
              "      <td>2,780,400 sq_km</td>\n",
              "      <td>16/sq_km</td>\n",
              "      <td>0.91%</td>\n",
              "      <td>0.58%</td>\n",
              "      <td>32</td>\n",
              "    </tr>\n",
              "    <tr>\n",
              "      <th>15</th>\n",
              "      <td>COD</td>\n",
              "      <td>Dr Congo</td>\n",
              "      <td>92,690,133</td>\n",
              "      <td>89,561,403</td>\n",
              "      <td>2,344,858 sq_km</td>\n",
              "      <td>39/sq_km</td>\n",
              "      <td>3.14%</td>\n",
              "      <td>1.17%</td>\n",
              "      <td>16</td>\n",
              "    </tr>\n",
              "    <tr>\n",
              "      <th>17</th>\n",
              "      <td>IRN</td>\n",
              "      <td>Iran</td>\n",
              "      <td>85,141,219</td>\n",
              "      <td>83,992,949</td>\n",
              "      <td>1,648,195 sq_km</td>\n",
              "      <td>52/sq_km</td>\n",
              "      <td>1.23%</td>\n",
              "      <td>1.08%</td>\n",
              "      <td>18</td>\n",
              "    </tr>\n",
              "  </tbody>\n",
              "</table>\n",
              "</div>"
            ],
            "text/plain": [
              "    iso_code       country 2021_last_updated  ... growth_rate world_% rank\n",
              "208      MAF  Sint Maarten            43,412  ...       1.25%   0.00%  212\n",
              "63       KAZ    Kazakhstan        19,019,066  ...       1.16%   0.24%   64\n",
              "31       ARG     Argentina        45,651,239  ...       0.91%   0.58%   32\n",
              "15       COD      Dr Congo        92,690,133  ...       3.14%   1.17%   16\n",
              "17       IRN          Iran        85,141,219  ...       1.23%   1.08%   18\n",
              "\n",
              "[5 rows x 9 columns]"
            ]
          },
          "metadata": {},
          "execution_count": 40
        }
      ]
    },
    {
      "cell_type": "code",
      "metadata": {
        "colab": {
          "base_uri": "https://localhost:8080/"
        },
        "id": "8ck1Gfc7IgCQ",
        "outputId": "75b85bab-0f25-4b0c-fef1-76d25e69419c"
      },
      "source": [
        "df.info()"
      ],
      "execution_count": 41,
      "outputs": [
        {
          "output_type": "stream",
          "name": "stdout",
          "text": [
            "<class 'pandas.core.frame.DataFrame'>\n",
            "RangeIndex: 228 entries, 0 to 227\n",
            "Data columns (total 9 columns):\n",
            " #   Column             Non-Null Count  Dtype \n",
            "---  ------             --------------  ----- \n",
            " 0   iso_code           228 non-null    object\n",
            " 1   country            228 non-null    object\n",
            " 2   2021_last_updated  228 non-null    object\n",
            " 3   2020_population    228 non-null    object\n",
            " 4   area               228 non-null    object\n",
            " 5   density_sq_km      228 non-null    object\n",
            " 6   growth_rate        228 non-null    object\n",
            " 7   world_%            228 non-null    object\n",
            " 8   rank               228 non-null    int64 \n",
            "dtypes: int64(1), object(8)\n",
            "memory usage: 16.2+ KB\n"
          ]
        }
      ]
    },
    {
      "cell_type": "markdown",
      "metadata": {
        "id": "I7Q12-VQJ9a-"
      },
      "source": [
        "Terdapat 228 baris dan 9 kolom pada dataset, dan tidak terdapat missing value pada dataset yang digunakan."
      ]
    },
    {
      "cell_type": "markdown",
      "metadata": {
        "id": "i04tHETwI-Mo"
      },
      "source": [
        "Data pada dataset yang digunakan seperti populasi 2021, populasi 2020, area, density, growth rate dan %world masih berupa object, sehingga perlu diubah menjadi numeric terlebih dahulu agar dapat dilanjutkan ke proses-proses berikutnya."
      ]
    },
    {
      "cell_type": "markdown",
      "metadata": {
        "id": "6s3eA2nLJsVN"
      },
      "source": [
        "#Data Cleaning"
      ]
    },
    {
      "cell_type": "code",
      "metadata": {
        "id": "_4_drmpjJpY9"
      },
      "source": [
        "df['2021_last_updated'] = df['2021_last_updated'].str.replace(',','')\n",
        "df['2020_population'] = df['2020_population'].str.replace(',','')\n",
        "df['area'] = df['area'].str.replace(',','')\n",
        "df['area'] = df['area'].str.replace(' ','')\n",
        "df['area'] = df['area'].str.replace('sq_km','')\n",
        "df['density_sq_km'] = df['density_sq_km'].str.replace('/sq_km','')\n",
        "df['growth_rate'] = df['growth_rate'].str.replace('%','')\n",
        "df['world_%'] = df['world_%'].str.replace('%','')"
      ],
      "execution_count": 42,
      "outputs": []
    },
    {
      "cell_type": "markdown",
      "metadata": {
        "id": "6547g_4pNhhn"
      },
      "source": [
        "Convert object to numeric"
      ]
    },
    {
      "cell_type": "code",
      "metadata": {
        "id": "5FIyXl9SHP14"
      },
      "source": [
        "df['2021_last_updated'] = pd.to_numeric(df['2021_last_updated'],errors = 'coerce')\n",
        "df['2020_population'] = pd.to_numeric(df['2020_population'],errors = 'coerce')\n",
        "df['area'] = pd.to_numeric(df['area'],errors = 'coerce')\n",
        "df['density_sq_km'] = pd.to_numeric(df['density_sq_km'],errors = 'coerce')\n",
        "df['growth_rate'] = pd.to_numeric(df['growth_rate'],errors = 'coerce')\n",
        "df['world_%'] = pd.to_numeric(df['world_%'],errors = 'coerce')"
      ],
      "execution_count": 43,
      "outputs": []
    },
    {
      "cell_type": "code",
      "metadata": {
        "colab": {
          "base_uri": "https://localhost:8080/",
          "height": 0
        },
        "id": "yrYx4N0zJXGx",
        "outputId": "d3be36f0-e772-4621-8984-724edc910caa"
      },
      "source": [
        "df.describe()"
      ],
      "execution_count": 44,
      "outputs": [
        {
          "output_type": "execute_result",
          "data": {
            "text/html": [
              "<div>\n",
              "<style scoped>\n",
              "    .dataframe tbody tr th:only-of-type {\n",
              "        vertical-align: middle;\n",
              "    }\n",
              "\n",
              "    .dataframe tbody tr th {\n",
              "        vertical-align: top;\n",
              "    }\n",
              "\n",
              "    .dataframe thead th {\n",
              "        text-align: right;\n",
              "    }\n",
              "</style>\n",
              "<table border=\"1\" class=\"dataframe\">\n",
              "  <thead>\n",
              "    <tr style=\"text-align: right;\">\n",
              "      <th></th>\n",
              "      <th>2021_last_updated</th>\n",
              "      <th>2020_population</th>\n",
              "      <th>area</th>\n",
              "      <th>density_sq_km</th>\n",
              "      <th>growth_rate</th>\n",
              "      <th>world_%</th>\n",
              "      <th>rank</th>\n",
              "    </tr>\n",
              "  </thead>\n",
              "  <tbody>\n",
              "    <tr>\n",
              "      <th>count</th>\n",
              "      <td>2.280000e+02</td>\n",
              "      <td>2.280000e+02</td>\n",
              "      <td>2.280000e+02</td>\n",
              "      <td>217.000000</td>\n",
              "      <td>228.000000</td>\n",
              "      <td>228.000000</td>\n",
              "      <td>228.000000</td>\n",
              "    </tr>\n",
              "    <tr>\n",
              "      <th>mean</th>\n",
              "      <td>3.456893e+07</td>\n",
              "      <td>3.417852e+07</td>\n",
              "      <td>5.962995e+05</td>\n",
              "      <td>149.778802</td>\n",
              "      <td>1.067412</td>\n",
              "      <td>0.438377</td>\n",
              "      <td>115.311404</td>\n",
              "    </tr>\n",
              "    <tr>\n",
              "      <th>std</th>\n",
              "      <td>1.381198e+08</td>\n",
              "      <td>1.370800e+08</td>\n",
              "      <td>1.782545e+06</td>\n",
              "      <td>169.860610</td>\n",
              "      <td>1.059857</td>\n",
              "      <td>1.752463</td>\n",
              "      <td>67.032535</td>\n",
              "    </tr>\n",
              "    <tr>\n",
              "      <th>min</th>\n",
              "      <td>8.000000e+02</td>\n",
              "      <td>8.010000e+02</td>\n",
              "      <td>1.000000e+00</td>\n",
              "      <td>0.000000</td>\n",
              "      <td>-1.290000</td>\n",
              "      <td>0.000000</td>\n",
              "      <td>1.000000</td>\n",
              "    </tr>\n",
              "    <tr>\n",
              "      <th>25%</th>\n",
              "      <td>5.579352e+05</td>\n",
              "      <td>5.521262e+05</td>\n",
              "      <td>4.133500e+03</td>\n",
              "      <td>31.000000</td>\n",
              "      <td>0.297500</td>\n",
              "      <td>0.010000</td>\n",
              "      <td>57.750000</td>\n",
              "    </tr>\n",
              "    <tr>\n",
              "      <th>50%</th>\n",
              "      <td>5.858841e+06</td>\n",
              "      <td>5.821272e+06</td>\n",
              "      <td>8.523550e+04</td>\n",
              "      <td>89.000000</td>\n",
              "      <td>0.920000</td>\n",
              "      <td>0.070000</td>\n",
              "      <td>114.500000</td>\n",
              "    </tr>\n",
              "    <tr>\n",
              "      <th>75%</th>\n",
              "      <td>2.213711e+07</td>\n",
              "      <td>2.201413e+07</td>\n",
              "      <td>4.467625e+05</td>\n",
              "      <td>215.000000</td>\n",
              "      <td>1.830000</td>\n",
              "      <td>0.277500</td>\n",
              "      <td>172.250000</td>\n",
              "    </tr>\n",
              "    <tr>\n",
              "      <th>max</th>\n",
              "      <td>1.444752e+09</td>\n",
              "      <td>1.439324e+09</td>\n",
              "      <td>1.709824e+07</td>\n",
              "      <td>840.000000</td>\n",
              "      <td>4.430000</td>\n",
              "      <td>18.340000</td>\n",
              "      <td>232.000000</td>\n",
              "    </tr>\n",
              "  </tbody>\n",
              "</table>\n",
              "</div>"
            ],
            "text/plain": [
              "       2021_last_updated  2020_population  ...     world_%        rank\n",
              "count       2.280000e+02     2.280000e+02  ...  228.000000  228.000000\n",
              "mean        3.456893e+07     3.417852e+07  ...    0.438377  115.311404\n",
              "std         1.381198e+08     1.370800e+08  ...    1.752463   67.032535\n",
              "min         8.000000e+02     8.010000e+02  ...    0.000000    1.000000\n",
              "25%         5.579352e+05     5.521262e+05  ...    0.010000   57.750000\n",
              "50%         5.858841e+06     5.821272e+06  ...    0.070000  114.500000\n",
              "75%         2.213711e+07     2.201413e+07  ...    0.277500  172.250000\n",
              "max         1.444752e+09     1.439324e+09  ...   18.340000  232.000000\n",
              "\n",
              "[8 rows x 7 columns]"
            ]
          },
          "metadata": {},
          "execution_count": 44
        }
      ]
    },
    {
      "cell_type": "markdown",
      "metadata": {
        "id": "pc49g14kJn5c"
      },
      "source": [
        "Semua kolom memiliki unique value.\n",
        "\n",
        "Namun, terdapat baris yang memiliki density_sq_km dan world_% bernilai 0 dan dianggap sebagai missing values, maka kolom akan dihilangkan untuk menjaga data negara tetap lengkap."
      ]
    },
    {
      "cell_type": "code",
      "metadata": {
        "id": "Or_9GJW9o8WK"
      },
      "source": [
        "df1 = df.drop(['density_sq_km','world_%'], axis = 1)"
      ],
      "execution_count": 45,
      "outputs": []
    },
    {
      "cell_type": "code",
      "metadata": {
        "colab": {
          "base_uri": "https://localhost:8080/"
        },
        "id": "R6JoWzcXwo12",
        "outputId": "b73aa0fa-736a-43cb-e65b-b3282b96236d"
      },
      "source": [
        "df1.info()"
      ],
      "execution_count": 46,
      "outputs": [
        {
          "output_type": "stream",
          "name": "stdout",
          "text": [
            "<class 'pandas.core.frame.DataFrame'>\n",
            "RangeIndex: 228 entries, 0 to 227\n",
            "Data columns (total 7 columns):\n",
            " #   Column             Non-Null Count  Dtype  \n",
            "---  ------             --------------  -----  \n",
            " 0   iso_code           228 non-null    object \n",
            " 1   country            228 non-null    object \n",
            " 2   2021_last_updated  228 non-null    int64  \n",
            " 3   2020_population    228 non-null    int64  \n",
            " 4   area               228 non-null    int64  \n",
            " 5   growth_rate        228 non-null    float64\n",
            " 6   rank               228 non-null    int64  \n",
            "dtypes: float64(1), int64(4), object(2)\n",
            "memory usage: 12.6+ KB\n"
          ]
        }
      ]
    },
    {
      "cell_type": "code",
      "metadata": {
        "colab": {
          "base_uri": "https://localhost:8080/"
        },
        "id": "9SMl7WIvyXwv",
        "outputId": "a4e5e84b-9c64-4a25-a87b-151f68f83998"
      },
      "source": [
        "len(df1.drop_duplicates()) / len(df1) #duplicate row handling"
      ],
      "execution_count": 47,
      "outputs": [
        {
          "output_type": "execute_result",
          "data": {
            "text/plain": [
              "1.0"
            ]
          },
          "metadata": {},
          "execution_count": 47
        }
      ]
    },
    {
      "cell_type": "markdown",
      "metadata": {
        "id": "LqhUrlSOxBU8"
      },
      "source": [
        "Dataset dengan 228 baris dan 7 kolom sudah bersih dan tidak terdapat duplicate row, kini data siap untuk digunakan pada tahap selanjutnya."
      ]
    },
    {
      "cell_type": "markdown",
      "metadata": {
        "id": "sz8zappAp3HT"
      },
      "source": [
        "#Getting unique values for each of the column"
      ]
    },
    {
      "cell_type": "code",
      "metadata": {
        "colab": {
          "base_uri": "https://localhost:8080/"
        },
        "id": "E1gGsmmLJ1uJ",
        "outputId": "906452f0-c886-4ee9-b2c2-46d3e908da23"
      },
      "source": [
        "for col in df1.columns:\n",
        "    print(f\"Column: {col}\")\n",
        "    print(df1[col].unique())\n",
        "    print(\"=\"*10)"
      ],
      "execution_count": 48,
      "outputs": [
        {
          "output_type": "stream",
          "name": "stdout",
          "text": [
            "Column: iso_code\n",
            "['CHN' 'IND' 'USA' 'IDN' 'PAK' 'BRA' 'NGA' 'BGD' 'RUS' 'MEX' 'JPN' 'ETH'\n",
            " 'PHL' 'EGY' 'VNM' 'COD' 'TUR' 'IRN' 'DEU' 'THA' 'GBR' 'FRA' 'TZA' 'ITA'\n",
            " 'ZAF' 'KEN' 'MMR' 'KOR' 'COL' 'UGA' 'ESP' 'ARG' 'SDN' 'DZA' 'UKR' 'IRQ'\n",
            " 'AFG' 'CAN' 'POL' 'MAR' 'SAU' 'UZB' 'AGO' 'PER' 'MYS' 'MOZ' 'GHA' 'YEM'\n",
            " 'NPL' 'VEN' 'MDG' 'CMR' 'CIV' 'PRK' 'AUS' 'NER' 'TWN' 'LKA' 'BFA' 'MLI'\n",
            " 'MWI' 'CHL' 'ROU' 'KAZ' 'ZMB' 'SYR' 'GTM' 'ECU' 'SEN' 'NLD' 'KHM' 'TCD'\n",
            " 'SOM' 'ZWE' 'GIN' 'RWA' 'BEN' 'BDI' 'TUN' 'BOL' 'BEL' 'HTI' 'SSD' 'CUB'\n",
            " 'DOM' 'CZE' 'GRC' 'JOR' 'AZE' 'PRT' 'SWE' 'HND' 'ARE' 'TJK' 'HUN' 'BLR'\n",
            " 'PNG' 'AUT' 'ISR' 'CHE' 'SRB' 'TGO' 'SLE' 'HKG' 'LAO' 'PRY' 'LBY' 'BGR'\n",
            " 'LBN' 'NIC' 'KGZ' 'SLV' 'TKM' 'SGP' 'DNK' 'COG' 'FIN' 'NOR' 'SVK' 'OMN'\n",
            " 'PSE' 'LBR' 'CRI' 'IRL' 'CAF' 'NZL' 'MRT' 'PAN' 'KWT' 'HRV' 'MDA' 'GEO'\n",
            " 'ERI' 'URY' 'MNG' 'BIH' 'JAM' 'ARM' 'QAT' 'ALB' 'PRI' 'LTU' 'NAM' 'GMB'\n",
            " 'BWA' 'GAB' 'LSO' 'MKD' 'SVN' 'GNB' 'LVA' 'BHR' 'GNQ' 'TTO' 'TLS' 'EST'\n",
            " 'MUS' 'CYP' 'DJI' 'FJI' 'RU' 'COM' 'GUY' 'BTN' 'SLB' 'MAC' 'LUX' 'MNE'\n",
            " 'ESH' 'SUR' 'CPV' 'MDV' 'MLT' 'BRN' 'BLZ' 'BHS' 'MTQ' 'ISL' 'VUT' 'NCL'\n",
            " 'BRB' 'PYF' 'MYT' 'STP' 'WSM' 'LCA' 'GUM' 'CUW' 'KIR' 'FSM' 'GRD' 'VCT'\n",
            " 'ABW' 'TON' 'VIR' 'SYC' 'ATG' 'IMN' 'AND' 'DMA' 'CYM' 'BMU' 'MHL' 'MNP'\n",
            " 'GRL' 'ASM' 'KNA' 'FRO' 'MAF' 'MCO' 'TCA' 'LIE' 'SMR' 'GIB' 'PLW' 'COK'\n",
            " 'AIA' 'TUV' 'WLF' 'NRU' 'BL' 'SPM' 'MSR' 'FLK' 'NIU' 'TKL' 'VAT']\n",
            "==========\n",
            "Column: country\n",
            "['China' 'India' 'United States' 'Indonesia' 'Pakistan' 'Brazil' 'Nigeria'\n",
            " 'Bangladesh' 'Russia' 'Mexico' 'Japan' 'Ethiopia' 'Philippines' 'Egypt'\n",
            " 'Vietnam' 'Dr Congo' 'Turkey' 'Iran' 'Germany' 'Thailand'\n",
            " 'United Kingdom' 'France' 'Tanzania' 'Italy' 'South Africa' 'Kenya'\n",
            " 'Myanmar' 'South Korea' 'Colombia' 'Uganda' 'Spain' 'Argentina' 'Sudan'\n",
            " 'Algeria' 'Ukraine' 'Iraq' 'Afghanistan' 'Canada' 'Poland' 'Morocco'\n",
            " 'Saudi Arabia' 'Uzbekistan' 'Angola' 'Peru' 'Malaysia' 'Mozambique'\n",
            " 'Ghana' 'Yemen' 'Nepal' 'Venezuela' 'Madagascar' 'Cameroon' 'Ivory Coast'\n",
            " 'North Korea' 'Australia' 'Niger' 'Taiwan' 'Sri Lanka' 'Burkina Faso'\n",
            " 'Mali' 'Malawi' 'Chile' 'Romania' 'Kazakhstan' 'Zambia' 'Syria'\n",
            " 'Guatemala' 'Ecuador' 'Senegal' 'Netherlands' 'Cambodia' 'Chad' 'Somalia'\n",
            " 'Zimbabwe' 'Guinea' 'Rwanda' 'Benin' 'Burundi' 'Tunisia' 'Bolivia'\n",
            " 'Belgium' 'Haiti' 'South Sudan' 'Cuba' 'Dominican Republic'\n",
            " 'Czech Republic' 'Greece' 'Jordan' 'Azerbaijan' 'Portugal' 'Sweden'\n",
            " 'Honduras' 'United Arab Emirates' 'Tajikistan' 'Hungary' 'Belarus'\n",
            " 'Papua New Guinea' 'Austria' 'Israel' 'Switzerland' 'Serbia' 'Togo'\n",
            " 'Sierra Leone' 'Hong Kong' 'Laos' 'Paraguay' 'Libya' 'Bulgaria' 'Lebanon'\n",
            " 'Nicaragua' 'Kyrgyzstan' 'El Salvador' 'Turkmenistan' 'Singapore'\n",
            " 'Denmark' 'Republic Of The Congo' 'Finland' 'Norway' 'Slovakia' 'Oman'\n",
            " 'Palestine' 'Liberia' 'Costa Rica' 'Ireland' 'Central African Republic'\n",
            " 'New Zealand' 'Mauritania' 'Panama' 'Kuwait' 'Croatia' 'Moldova'\n",
            " 'Georgia' 'Eritrea' 'Uruguay' 'Mongolia' 'Bosnia And Herzegovina'\n",
            " 'Jamaica' 'Armenia' 'Qatar' 'Albania' 'Puerto Rico' 'Lithuania' 'Namibia'\n",
            " 'Gambia' 'Botswana' 'Gabon' 'Lesotho' 'North Macedonia' 'Slovenia'\n",
            " 'Guinea Bissau' 'Latvia' 'Bahrain' 'Equatorial Guinea'\n",
            " 'Trinidad And Tobago' 'Timor Leste' 'Estonia' 'Mauritius' 'Cyprus'\n",
            " 'Djibouti' 'Fiji' 'Reunion' 'Comoros' 'Guyana' 'Bhutan' 'Solomon Islands'\n",
            " 'Macau' 'Luxembourg' 'Montenegro' 'Western Sahara' 'Suriname'\n",
            " 'Cape Verde' 'Maldives' 'Malta' 'Brunei' 'Belize' 'Bahamas' 'Martinique'\n",
            " 'Iceland' 'Vanuatu' 'New Caledonia' 'Barbados' 'French Polynesia'\n",
            " 'Mayotte' 'Sao Tome And Principe' 'Samoa' 'Saint Lucia' 'Guam' 'Curacao'\n",
            " 'Kiribati' 'Micronesia' 'Grenada' 'Saint Vincent And The Grenadines'\n",
            " 'Aruba' 'Tonga' 'United States Virgin Islands' 'Seychelles'\n",
            " 'Antigua And Barbuda' 'Isle Of Man' 'Andorra' 'Dominica' 'Cayman Islands'\n",
            " 'Bermuda' 'Marshall Islands' 'Northern Mariana Islands' 'Greenland'\n",
            " 'American Samoa' 'Saint Kitts And Nevis' 'Faroe Islands' 'Sint Maarten'\n",
            " 'Monaco' 'Saint Martin' 'Turks And Caicos Islands' 'Liechtenstein'\n",
            " 'San Marino' 'Gibraltar' 'Palau' 'Cook Islands' 'Anguilla' 'Tuvalu'\n",
            " 'Wallis And Futuna' 'Nauru' 'Saint Barthelemy'\n",
            " 'Saint Pierre And Miquelon' 'Montserrat' 'Falkland Islands' 'Niue'\n",
            " 'Tokelau' 'Vatican City']\n",
            "==========\n",
            "Column: 2021_last_updated\n",
            "[1444751667 1394894266  333129986  276676718  225674528  214151229\n",
            "  211984720  166480938  145909756  130409556  126004135  118198454\n",
            "  111209728  104471174   98260389   92690133   85125827   85141219\n",
            "   83914611   69967541   68243576   65443842   61694107   60358646\n",
            "   60123300   55120641   54849562   51310088   51310650   47277474\n",
            "   46743636   45651239   45026552   44700321   43437732   41286746\n",
            "   39936787   38104242   37790888   37392679   35400559   33986929\n",
            "   34052511   33402198   32821162   32263353   31805171   30564290\n",
            "   29728638   28730881   28508837   27299495   27128332   25898911\n",
            "   25820503   25233635   23859304   21506668   21563049   20922781\n",
            "   19705129   19224190   19115459   19019066   18980324   18345341\n",
            "   18286806   17915780   17246373   17177272   16971555   16969270\n",
            "   16411156   15118058   13537229   13312163   12487419   12295701\n",
            "   11948446   11850643   11637228   11557120   11402444   11316573\n",
            "   10965370   10726135   10365072   10279149   10232660   10164603\n",
            "   10166934   10080492   10002432    9772881    9631166    9442092\n",
            "    9138050    9047283    8804601    8722462    8693215    8500450\n",
            "    8159533    7559008    7390742    7229239    6967809    6890951\n",
            "    6766067    6711054    6639821    6522023    6127485    5902034\n",
            "    5815648    5672407    5549251    5470694    5460762    5237027\n",
            "    5236036    5193855    5143994    4987728    4929744    4864978\n",
            "    4788974    4388912    4335721    4079018    4022885    3978671\n",
            "    3607544    3486407    3334920    3261238    2974800    2968654\n",
            "    2936524    2872325    2824244    2686256    2592448    2494723\n",
            "    2402183    2284780    2160983    2082536    2078724    2020760\n",
            "    1864835    1753400    1455081    1403821    1346668    1325023\n",
            "    1273595    1216516    1003726     903595     902375     890558\n",
            "     790731     780830     705900     659447     635827     628053\n",
            "     613455     592367     562546     544103     442946     441978\n",
            "     405724     397318     374664     343596     315274     288502\n",
            "     287752     282692     280244     223854     200311     184481\n",
            "     170341     164879     121595     116376     113062     111263\n",
            "     107204     106882     104185      98949      98812      85410\n",
            "      77355      72167      66497      62090      59610      57917\n",
            "      56877      55100      53544      49049      43412      39511\n",
            "      39234      39231      38250      34017      33698      18169\n",
            "      17565      15117      11931      11094      10876       9907\n",
            "       5766       4977       3533       1619       1373        800]\n",
            "==========\n",
            "Column: 2020_population\n",
            "[1439323776 1380004385  331002651  273523615  220892340  212559417\n",
            "  206139589  164689383  145934462  128932753  126476461  114963588\n",
            "  109581078  102334404   97338579   89561403   84339067   83992949\n",
            "   83783942   69799978   67886011   65273511   59734218   60461826\n",
            "   59308690   53771296   54409800   51269185   50882891   45741007\n",
            "   46754778   45195774   43849260   43851044   43733762   40222493\n",
            "   38928346   37742154   37846611   36910560   34813871   33469203\n",
            "   32866272   32971854   32365999   31255435   31072940   29825964\n",
            "   29136808   28435940   27691018   26545863   26378274   25778816\n",
            "   25499884   24206644   23816775   21413249   20903273   20250833\n",
            "   19129952   19116201   19237691   18776707   18383955   17500658\n",
            "   17915568   17643054   16743927   17134872   16718965   16425864\n",
            "   15893222   14862924   13132795   12952218   12123200   11890784\n",
            "   11818619   11673021   11589623   11402528   11193725   11326616\n",
            "   10847910   10708981   10423054   10203134   10139177   10196709\n",
            "   10099265    9904607    9890402    9537645    9660351    9449323\n",
            "    8947024    9006398    8655535    8654622    8737371    8278724\n",
            "    7976983    7496981    7275560    7132538    6871292    6948445\n",
            "    6825445    6624554    6524195    6486205    6031200    5850342\n",
            "    5792202    5518087    5540720    5421241    5459642    5106626\n",
            "    5101414    5057681    5094118    4937786    4829767    4822233\n",
            "    4649658    4314767    4270571    4105267    4033963    3989167\n",
            "    3546421    3473730    3278290    3280819    2961167    2963243\n",
            "    2881053    2877797    2860853    2722289    2540905    2416668\n",
            "    2351627    2225734    2142249    2083374    2078938    1968001\n",
            "    1886198    1701575    1402985    1399488    1318445    1326535\n",
            "    1271768    1207359     988000     896445     895312     869601\n",
            "     786552     771608     686884     649335     625978     628066\n",
            "     597339     586632     555987     540544     441543     437479\n",
            "     397628     393244     375265     341243     307145     285498\n",
            "     287375     280908     272815     219159     198414     183627\n",
            "     168775     164093     119449     115023     112523     110940\n",
            "     106766     105695     104425      98347      97929      85033\n",
            "      77265      71986      65722      62278      59190      57559\n",
            "      56770      55191      53199      48863      42876      39242\n",
            "      38666      38717      38128      33931      33691      18094\n",
            "      17564      15003      11792      11239      10824       9877\n",
            "       5794       4992       3480       1626       1357        801]\n",
            "==========\n",
            "Column: area\n",
            "[ 9706961  3287590  9372610  1904569   881912  8515767   923768   147570\n",
            " 17098242  1964375   377930  1104300   342353  1002450   331212  2344858\n",
            "   783562  1648195   357114   513120   242900   551695   945087   301336\n",
            "  1221037   580367   676578   100210  1141748   241550   505992  2780400\n",
            "  1886068  2381741   603500   438317   652230  9984670   312679   446550\n",
            "  2149690   447400  1246700  1285216   330803   801590   238533   527968\n",
            "   147181   916445   587041   475442   322463   120538  7692024  1267000\n",
            "    36193    65610   272967  1240192   118484   756102   238391  2724900\n",
            "   752612   185180   108889   276841   196722    41850   181035  1284000\n",
            "   637657   390757   245857    26338   112622    27834   163610  1098581\n",
            "    30528    27750   619745   109884    48671    78865   131990    89342\n",
            "    86600    92090   450295   112492    83600   143100    93028   207600\n",
            "   462840    83871    20770    41284    88361    56785    71740     1104\n",
            "   236800   406752  1759540   110879    10452   130373   199951    21041\n",
            "   488100      710    43094   342000   338424   323802    49037   309500\n",
            "     6220   111369    51100    70273   622984   270467  1030700    75417\n",
            "    17818    56594    33846    69700   117600   181034  1564110    51209\n",
            "    10991    29743    11586    28748     8870    65300   825615    10689\n",
            "   582000   267668    30355    25713    20273    36125    64559      765\n",
            "    28051     5130    14874    45227     2040     9251    23200    18272\n",
            "     2511     1862   214969    38394    28896       30     2586    13812\n",
            "   266000   163820     4033      300      316     5765    22966    13943\n",
            "     1128   103000    12189    18575      430     4167      374      964\n",
            "     2842      616      549      444      811      702      344      389\n",
            "      180      747      347      452      442      572      468      751\n",
            "      264       54      181      464  2166086      199      261     1393\n",
            "       34        2       53      948      160       61        6      459\n",
            "      236       91       26      142       21      242      102    12173\n",
            "      260       12        1]\n",
            "==========\n",
            "Column: growth_rate\n",
            "[ 0.34  0.97  0.58  1.04  1.95  0.67  2.55  0.98 -0.02  1.03 -0.34  2.53\n",
            "  1.34  1.88  0.85  3.14  0.83  1.23  0.14  0.22  0.47  0.23  2.95 -0.16\n",
            "  1.24  2.26  0.73  0.07  0.75  3.02  0.91  2.42  1.75 -0.61  2.38  2.33\n",
            "  0.86 -0.13  1.18  1.51  1.39  3.25  1.27  2.9   2.12  2.23  1.85  0.95\n",
            "  2.66  2.56  0.42  1.13  3.82  0.16  0.39  2.84  2.99  2.71  0.5  -0.57\n",
            "  1.16  2.92  4.43  1.87  2.7   1.36  2.98  2.93  1.54  2.78  2.5   3.07\n",
            "  0.99  1.37  0.37  1.22  1.68 -0.08  0.15 -0.5   0.65 -0.28  0.6   1.6\n",
            "  1.02  2.22 -0.27 -0.07  1.92  0.41  1.55  0.7  -0.46  2.41  2.06  0.74\n",
            "  1.43 -0.75 -0.82  1.17  1.44  0.79  0.36  2.52  0.82  0.02  2.29  0.88\n",
            "  0.8  -0.58 -0.25 -0.24  0.33  1.56 -0.53  1.72 -0.17 -1.14 -1.19  1.83\n",
            "  2.91  1.94  2.39 -0.03 -0.01 -1.02  2.75  3.34  0.28  1.93 -0.1   0.13\n",
            "  0.68  0.72  0.71  2.17  0.48  1.07  2.49  1.4   1.41 -0.    2.43  1.06\n",
            "  0.57  0.93 -0.14  0.62  0.12  2.46  0.87  0.43  1.63  0.44  0.29  1.01\n",
            " -0.19  0.25 -0.3   0.19  0.38  1.25  0.69  1.47  1.33  0.32  0.01  0.76\n",
            " -1.29  0.3  -0.48  1.52 -0.43 -0.12]\n",
            "==========\n",
            "Column: rank\n",
            "[  1   2   3   4   5   6   7   8   9  10  11  12  13  14  15  16  17  18\n",
            "  19  20  21  22  23  24  25  26  27  28  29  30  31  32  33  34  35  36\n",
            "  37  38  39  40  41  42  43  44  45  46  47  48  49  50  51  52  53  54\n",
            "  55  56  57  58  59  60  61  62  63  64  65  66  67  68  69  70  71  72\n",
            "  73  74  75  76  77  78  79  80  81  82  83  84  85  86  87  88  89  90\n",
            "  91  92  93  94  95  96  97  98  99 100 101 102 103 104 105 106 107 108\n",
            " 109 110 111 112 113 114 115 116 117 118 119 120 121 122 123 124 125 126\n",
            " 127 128 129 130 131 132 133 134 135 136 137 138 139 140 141 142 143 144\n",
            " 145 146 147 148 149 150 151 152 153 154 155 156 157 158 160 161 162 163\n",
            " 164 165 166 167 168 169 170 171 172 173 174 175 176 178 179 180 181 183\n",
            " 184 185 186 187 188 189 190 191 192 193 194 195 196 197 198 199 200 201\n",
            " 202 203 204 205 206 207 208 209 210 211 212 213 214 215 216 217 218 220\n",
            " 221 222 223 224 225 226 227 228 229 230 231 232]\n",
            "==========\n"
          ]
        }
      ]
    },
    {
      "cell_type": "markdown",
      "metadata": {
        "id": "BWC10O_CQuEm"
      },
      "source": [
        "#Ranking by area"
      ]
    },
    {
      "cell_type": "code",
      "metadata": {
        "id": "8jCZj2R1L0-j",
        "colab": {
          "base_uri": "https://localhost:8080/",
          "height": 0
        },
        "outputId": "47d93413-65e6-443e-c67a-f6c7f71c2db7"
      },
      "source": [
        "display(df1.sort_values(by=['area'],ascending=False)) #Negara terluas"
      ],
      "execution_count": 49,
      "outputs": [
        {
          "output_type": "display_data",
          "data": {
            "text/html": [
              "<div>\n",
              "<style scoped>\n",
              "    .dataframe tbody tr th:only-of-type {\n",
              "        vertical-align: middle;\n",
              "    }\n",
              "\n",
              "    .dataframe tbody tr th {\n",
              "        vertical-align: top;\n",
              "    }\n",
              "\n",
              "    .dataframe thead th {\n",
              "        text-align: right;\n",
              "    }\n",
              "</style>\n",
              "<table border=\"1\" class=\"dataframe\">\n",
              "  <thead>\n",
              "    <tr style=\"text-align: right;\">\n",
              "      <th></th>\n",
              "      <th>iso_code</th>\n",
              "      <th>country</th>\n",
              "      <th>2021_last_updated</th>\n",
              "      <th>2020_population</th>\n",
              "      <th>area</th>\n",
              "      <th>growth_rate</th>\n",
              "      <th>rank</th>\n",
              "    </tr>\n",
              "  </thead>\n",
              "  <tbody>\n",
              "    <tr>\n",
              "      <th>8</th>\n",
              "      <td>RUS</td>\n",
              "      <td>Russia</td>\n",
              "      <td>145909756</td>\n",
              "      <td>145934462</td>\n",
              "      <td>17098242</td>\n",
              "      <td>-0.02</td>\n",
              "      <td>9</td>\n",
              "    </tr>\n",
              "    <tr>\n",
              "      <th>37</th>\n",
              "      <td>CAN</td>\n",
              "      <td>Canada</td>\n",
              "      <td>38104242</td>\n",
              "      <td>37742154</td>\n",
              "      <td>9984670</td>\n",
              "      <td>0.86</td>\n",
              "      <td>38</td>\n",
              "    </tr>\n",
              "    <tr>\n",
              "      <th>0</th>\n",
              "      <td>CHN</td>\n",
              "      <td>China</td>\n",
              "      <td>1444751667</td>\n",
              "      <td>1439323776</td>\n",
              "      <td>9706961</td>\n",
              "      <td>0.34</td>\n",
              "      <td>1</td>\n",
              "    </tr>\n",
              "    <tr>\n",
              "      <th>2</th>\n",
              "      <td>USA</td>\n",
              "      <td>United States</td>\n",
              "      <td>333129986</td>\n",
              "      <td>331002651</td>\n",
              "      <td>9372610</td>\n",
              "      <td>0.58</td>\n",
              "      <td>3</td>\n",
              "    </tr>\n",
              "    <tr>\n",
              "      <th>5</th>\n",
              "      <td>BRA</td>\n",
              "      <td>Brazil</td>\n",
              "      <td>214151229</td>\n",
              "      <td>212559417</td>\n",
              "      <td>8515767</td>\n",
              "      <td>0.67</td>\n",
              "      <td>6</td>\n",
              "    </tr>\n",
              "    <tr>\n",
              "      <th>...</th>\n",
              "      <td>...</td>\n",
              "      <td>...</td>\n",
              "      <td>...</td>\n",
              "      <td>...</td>\n",
              "      <td>...</td>\n",
              "      <td>...</td>\n",
              "      <td>...</td>\n",
              "    </tr>\n",
              "    <tr>\n",
              "      <th>221</th>\n",
              "      <td>BL</td>\n",
              "      <td>Saint Barthelemy</td>\n",
              "      <td>9907</td>\n",
              "      <td>9877</td>\n",
              "      <td>21</td>\n",
              "      <td>0.30</td>\n",
              "      <td>226</td>\n",
              "    </tr>\n",
              "    <tr>\n",
              "      <th>226</th>\n",
              "      <td>TKL</td>\n",
              "      <td>Tokelau</td>\n",
              "      <td>1373</td>\n",
              "      <td>1357</td>\n",
              "      <td>12</td>\n",
              "      <td>1.18</td>\n",
              "      <td>231</td>\n",
              "    </tr>\n",
              "    <tr>\n",
              "      <th>214</th>\n",
              "      <td>GIB</td>\n",
              "      <td>Gibraltar</td>\n",
              "      <td>33698</td>\n",
              "      <td>33691</td>\n",
              "      <td>6</td>\n",
              "      <td>0.02</td>\n",
              "      <td>218</td>\n",
              "    </tr>\n",
              "    <tr>\n",
              "      <th>209</th>\n",
              "      <td>MCO</td>\n",
              "      <td>Monaco</td>\n",
              "      <td>39511</td>\n",
              "      <td>39242</td>\n",
              "      <td>2</td>\n",
              "      <td>0.69</td>\n",
              "      <td>213</td>\n",
              "    </tr>\n",
              "    <tr>\n",
              "      <th>227</th>\n",
              "      <td>VAT</td>\n",
              "      <td>Vatican City</td>\n",
              "      <td>800</td>\n",
              "      <td>801</td>\n",
              "      <td>1</td>\n",
              "      <td>-0.12</td>\n",
              "      <td>232</td>\n",
              "    </tr>\n",
              "  </tbody>\n",
              "</table>\n",
              "<p>228 rows × 7 columns</p>\n",
              "</div>"
            ],
            "text/plain": [
              "    iso_code           country  2021_last_updated  ...      area  growth_rate  rank\n",
              "8        RUS            Russia          145909756  ...  17098242        -0.02     9\n",
              "37       CAN            Canada           38104242  ...   9984670         0.86    38\n",
              "0        CHN             China         1444751667  ...   9706961         0.34     1\n",
              "2        USA     United States          333129986  ...   9372610         0.58     3\n",
              "5        BRA            Brazil          214151229  ...   8515767         0.67     6\n",
              "..       ...               ...                ...  ...       ...          ...   ...\n",
              "221       BL  Saint Barthelemy               9907  ...        21         0.30   226\n",
              "226      TKL           Tokelau               1373  ...        12         1.18   231\n",
              "214      GIB         Gibraltar              33698  ...         6         0.02   218\n",
              "209      MCO            Monaco              39511  ...         2         0.69   213\n",
              "227      VAT      Vatican City                800  ...         1        -0.12   232\n",
              "\n",
              "[228 rows x 7 columns]"
            ]
          },
          "metadata": {}
        }
      ]
    },
    {
      "cell_type": "markdown",
      "metadata": {
        "id": "-qJAmfMpRtCW"
      },
      "source": [
        "Dari hasil diatas negara dengan luas area terbesar adalah Russia yang jumlah populasinya menempati posisi 9 dari seluruh negara, sedangkan negara dengan luas area terkecil adalah Vatican City yang jumlah populasinya menempati posisi 232 dari seluruh negara."
      ]
    },
    {
      "cell_type": "markdown",
      "metadata": {
        "id": "6AEIvLCBQ59P"
      },
      "source": [
        "#Group by area"
      ]
    },
    {
      "cell_type": "markdown",
      "metadata": {
        "id": "OddktVuIRGNu"
      },
      "source": [
        "Kelompokkan kategori negara berdasarkan luas area menjadi \"Negara Besar\", \"Negara Sedang\", \"Negara Kecil\". "
      ]
    },
    {
      "cell_type": "code",
      "metadata": {
        "id": "n45Ipb8hRiaF",
        "colab": {
          "base_uri": "https://localhost:8080/"
        },
        "outputId": "33c5de79-de0c-42ef-b1aa-9f51a0bc022a"
      },
      "source": [
        "df1['area'].describe()"
      ],
      "execution_count": 50,
      "outputs": [
        {
          "output_type": "execute_result",
          "data": {
            "text/plain": [
              "count    2.280000e+02\n",
              "mean     5.962995e+05\n",
              "std      1.782545e+06\n",
              "min      1.000000e+00\n",
              "25%      4.133500e+03\n",
              "50%      8.523550e+04\n",
              "75%      4.467625e+05\n",
              "max      1.709824e+07\n",
              "Name: area, dtype: float64"
            ]
          },
          "metadata": {},
          "execution_count": 50
        }
      ]
    },
    {
      "cell_type": "markdown",
      "metadata": {
        "id": "Gstd4Eh5_MJm"
      },
      "source": [
        "Dari data negara-negara yang tersedia, akan dikelompokkan berdasarkan luas areanya, menjadi:\n",
        "\n",
        "a) Negara Besar (3) dengan luas wilayah lebih dari 446762.5\n",
        "\n",
        "b) Negara Sedang (2) dengan luas wilayah 85235.50 sampai dengan 446762.5\n",
        "\n",
        "c) Negara Kecil (1) dengan luas wilayah kurang dari 85235.50 "
      ]
    },
    {
      "cell_type": "code",
      "metadata": {
        "id": "Jl5PfHl4AXro"
      },
      "source": [
        "def label_encoding_size_country(x):\n",
        "    if x >= 446762.5 :\n",
        "        return 3\n",
        "    elif x >= 85235.50:\n",
        "        return 2\n",
        "    else: \n",
        "        return 1"
      ],
      "execution_count": 51,
      "outputs": []
    },
    {
      "cell_type": "code",
      "metadata": {
        "id": "mKE7bg-uC_4d"
      },
      "source": [
        "df1['country_size'] = df1['area'].apply(label_encoding_size_country)"
      ],
      "execution_count": 52,
      "outputs": []
    },
    {
      "cell_type": "code",
      "metadata": {
        "colab": {
          "base_uri": "https://localhost:8080/",
          "height": 0
        },
        "id": "GzJpc2yaDh95",
        "outputId": "8a3d0845-2630-4402-8439-c22b37a6ce82"
      },
      "source": [
        "df1.sample(5)"
      ],
      "execution_count": 53,
      "outputs": [
        {
          "output_type": "execute_result",
          "data": {
            "text/html": [
              "<div>\n",
              "<style scoped>\n",
              "    .dataframe tbody tr th:only-of-type {\n",
              "        vertical-align: middle;\n",
              "    }\n",
              "\n",
              "    .dataframe tbody tr th {\n",
              "        vertical-align: top;\n",
              "    }\n",
              "\n",
              "    .dataframe thead th {\n",
              "        text-align: right;\n",
              "    }\n",
              "</style>\n",
              "<table border=\"1\" class=\"dataframe\">\n",
              "  <thead>\n",
              "    <tr style=\"text-align: right;\">\n",
              "      <th></th>\n",
              "      <th>iso_code</th>\n",
              "      <th>country</th>\n",
              "      <th>2021_last_updated</th>\n",
              "      <th>2020_population</th>\n",
              "      <th>area</th>\n",
              "      <th>growth_rate</th>\n",
              "      <th>rank</th>\n",
              "      <th>country_size</th>\n",
              "    </tr>\n",
              "  </thead>\n",
              "  <tbody>\n",
              "    <tr>\n",
              "      <th>205</th>\n",
              "      <td>ASM</td>\n",
              "      <td>American Samoa</td>\n",
              "      <td>55100</td>\n",
              "      <td>55191</td>\n",
              "      <td>199</td>\n",
              "      <td>-0.16</td>\n",
              "      <td>209</td>\n",
              "      <td>1</td>\n",
              "    </tr>\n",
              "    <tr>\n",
              "      <th>15</th>\n",
              "      <td>COD</td>\n",
              "      <td>Dr Congo</td>\n",
              "      <td>92690133</td>\n",
              "      <td>89561403</td>\n",
              "      <td>2344858</td>\n",
              "      <td>3.14</td>\n",
              "      <td>16</td>\n",
              "      <td>3</td>\n",
              "    </tr>\n",
              "    <tr>\n",
              "      <th>148</th>\n",
              "      <td>SVN</td>\n",
              "      <td>Slovenia</td>\n",
              "      <td>2078724</td>\n",
              "      <td>2078938</td>\n",
              "      <td>20273</td>\n",
              "      <td>-0.01</td>\n",
              "      <td>149</td>\n",
              "      <td>1</td>\n",
              "    </tr>\n",
              "    <tr>\n",
              "      <th>159</th>\n",
              "      <td>FJI</td>\n",
              "      <td>Fiji</td>\n",
              "      <td>903595</td>\n",
              "      <td>896445</td>\n",
              "      <td>18272</td>\n",
              "      <td>0.72</td>\n",
              "      <td>161</td>\n",
              "      <td>1</td>\n",
              "    </tr>\n",
              "    <tr>\n",
              "      <th>101</th>\n",
              "      <td>TGO</td>\n",
              "      <td>Togo</td>\n",
              "      <td>8500450</td>\n",
              "      <td>8278724</td>\n",
              "      <td>56785</td>\n",
              "      <td>2.41</td>\n",
              "      <td>102</td>\n",
              "      <td>1</td>\n",
              "    </tr>\n",
              "  </tbody>\n",
              "</table>\n",
              "</div>"
            ],
            "text/plain": [
              "    iso_code         country  ...  rank  country_size\n",
              "205      ASM  American Samoa  ...   209             1\n",
              "15       COD        Dr Congo  ...    16             3\n",
              "148      SVN        Slovenia  ...   149             1\n",
              "159      FJI            Fiji  ...   161             1\n",
              "101      TGO            Togo  ...   102             1\n",
              "\n",
              "[5 rows x 8 columns]"
            ]
          },
          "metadata": {},
          "execution_count": 53
        }
      ]
    },
    {
      "cell_type": "markdown",
      "metadata": {
        "id": "UVUGhJDoEHxR"
      },
      "source": [
        "Sekarang negara-negara telah dikelompokkan sesuai dengan luas wilayah atau areanya. \n",
        "\n",
        "Lalu berapa banyak negara yang tergolong menjadi Negara Besar, Negara Sedang dan Negara Kecil?"
      ]
    },
    {
      "cell_type": "code",
      "metadata": {
        "colab": {
          "base_uri": "https://localhost:8080/",
          "height": 0
        },
        "id": "i3QgzwNBhaxz",
        "outputId": "d08b7269-b374-4b23-de1c-4faf51f8b342"
      },
      "source": [
        "df1['country_size'].value_counts().plot(kind='bar')\n",
        "plt.title(\"Country Size\")\n",
        "plt.show()"
      ],
      "execution_count": 54,
      "outputs": [
        {
          "output_type": "display_data",
          "data": {
            "image/png": "[encoded data removed]",
            "text/plain": [
              "<Figure size 432x288 with 1 Axes>"
            ]
          },
          "metadata": {}
        }
      ]
    },
    {
      "cell_type": "markdown",
      "metadata": {
        "id": "hbTVmUeewXvj"
      },
      "source": [
        "#Population Density"
      ]
    },
    {
      "cell_type": "code",
      "metadata": {
        "id": "112kUAROwyD6"
      },
      "source": [
        "df1['population_density'] = df1['2021_last_updated']/df1['area']"
      ],
      "execution_count": 55,
      "outputs": []
    },
    {
      "cell_type": "code",
      "metadata": {
        "colab": {
          "base_uri": "https://localhost:8080/",
          "height": 0
        },
        "id": "yarmaZ1fxDow",
        "outputId": "4db5ab53-713e-41cd-856a-a19367d33087"
      },
      "source": [
        "df1.describe() #Sudah tidak terdapat missing value pada density"
      ],
      "execution_count": 56,
      "outputs": [
        {
          "output_type": "execute_result",
          "data": {
            "text/html": [
              "<div>\n",
              "<style scoped>\n",
              "    .dataframe tbody tr th:only-of-type {\n",
              "        vertical-align: middle;\n",
              "    }\n",
              "\n",
              "    .dataframe tbody tr th {\n",
              "        vertical-align: top;\n",
              "    }\n",
              "\n",
              "    .dataframe thead th {\n",
              "        text-align: right;\n",
              "    }\n",
              "</style>\n",
              "<table border=\"1\" class=\"dataframe\">\n",
              "  <thead>\n",
              "    <tr style=\"text-align: right;\">\n",
              "      <th></th>\n",
              "      <th>2021_last_updated</th>\n",
              "      <th>2020_population</th>\n",
              "      <th>area</th>\n",
              "      <th>growth_rate</th>\n",
              "      <th>rank</th>\n",
              "      <th>country_size</th>\n",
              "      <th>population_density</th>\n",
              "    </tr>\n",
              "  </thead>\n",
              "  <tbody>\n",
              "    <tr>\n",
              "      <th>count</th>\n",
              "      <td>2.280000e+02</td>\n",
              "      <td>2.280000e+02</td>\n",
              "      <td>2.280000e+02</td>\n",
              "      <td>228.000000</td>\n",
              "      <td>228.000000</td>\n",
              "      <td>228.000000</td>\n",
              "      <td>228.000000</td>\n",
              "    </tr>\n",
              "    <tr>\n",
              "      <th>mean</th>\n",
              "      <td>3.456893e+07</td>\n",
              "      <td>3.417852e+07</td>\n",
              "      <td>5.962995e+05</td>\n",
              "      <td>1.067412</td>\n",
              "      <td>115.311404</td>\n",
              "      <td>1.750000</td>\n",
              "      <td>456.595213</td>\n",
              "    </tr>\n",
              "    <tr>\n",
              "      <th>std</th>\n",
              "      <td>1.381198e+08</td>\n",
              "      <td>1.370800e+08</td>\n",
              "      <td>1.782545e+06</td>\n",
              "      <td>1.059857</td>\n",
              "      <td>67.032535</td>\n",
              "      <td>0.830981</td>\n",
              "      <td>2098.153944</td>\n",
              "    </tr>\n",
              "    <tr>\n",
              "      <th>min</th>\n",
              "      <td>8.000000e+02</td>\n",
              "      <td>8.010000e+02</td>\n",
              "      <td>1.000000e+00</td>\n",
              "      <td>-1.290000</td>\n",
              "      <td>1.000000</td>\n",
              "      <td>1.000000</td>\n",
              "      <td>0.026258</td>\n",
              "    </tr>\n",
              "    <tr>\n",
              "      <th>25%</th>\n",
              "      <td>5.579352e+05</td>\n",
              "      <td>5.521262e+05</td>\n",
              "      <td>4.133500e+03</td>\n",
              "      <td>0.297500</td>\n",
              "      <td>57.750000</td>\n",
              "      <td>1.000000</td>\n",
              "      <td>35.459959</td>\n",
              "    </tr>\n",
              "    <tr>\n",
              "      <th>50%</th>\n",
              "      <td>5.858841e+06</td>\n",
              "      <td>5.821272e+06</td>\n",
              "      <td>8.523550e+04</td>\n",
              "      <td>0.920000</td>\n",
              "      <td>114.500000</td>\n",
              "      <td>1.500000</td>\n",
              "      <td>95.535016</td>\n",
              "    </tr>\n",
              "    <tr>\n",
              "      <th>75%</th>\n",
              "      <td>2.213711e+07</td>\n",
              "      <td>2.201413e+07</td>\n",
              "      <td>4.467625e+05</td>\n",
              "      <td>1.830000</td>\n",
              "      <td>172.250000</td>\n",
              "      <td>2.250000</td>\n",
              "      <td>240.130316</td>\n",
              "    </tr>\n",
              "    <tr>\n",
              "      <th>max</th>\n",
              "      <td>1.444752e+09</td>\n",
              "      <td>1.439324e+09</td>\n",
              "      <td>1.709824e+07</td>\n",
              "      <td>4.430000</td>\n",
              "      <td>232.000000</td>\n",
              "      <td>3.000000</td>\n",
              "      <td>21981.566667</td>\n",
              "    </tr>\n",
              "  </tbody>\n",
              "</table>\n",
              "</div>"
            ],
            "text/plain": [
              "       2021_last_updated  2020_population  ...  country_size  population_density\n",
              "count       2.280000e+02     2.280000e+02  ...    228.000000          228.000000\n",
              "mean        3.456893e+07     3.417852e+07  ...      1.750000          456.595213\n",
              "std         1.381198e+08     1.370800e+08  ...      0.830981         2098.153944\n",
              "min         8.000000e+02     8.010000e+02  ...      1.000000            0.026258\n",
              "25%         5.579352e+05     5.521262e+05  ...      1.000000           35.459959\n",
              "50%         5.858841e+06     5.821272e+06  ...      1.500000           95.535016\n",
              "75%         2.213711e+07     2.201413e+07  ...      2.250000          240.130316\n",
              "max         1.444752e+09     1.439324e+09  ...      3.000000        21981.566667\n",
              "\n",
              "[8 rows x 7 columns]"
            ]
          },
          "metadata": {},
          "execution_count": 56
        }
      ]
    },
    {
      "cell_type": "markdown",
      "metadata": {
        "id": "9rf1VCC1yEwN"
      },
      "source": [
        "Kemudian akan dikelompokkan berdasarkan kepadatan penduduknya, menjadi:\n",
        "\n",
        "a) Kepadatan Penduduk Tinggi (3) dengan luas wilayah lebih dari 240.130316\n",
        "\n",
        "b) Kepadatan Penduduk Sedang (2) dengan luas wilayah 95.535016 sampai dengan 240.130316\n",
        "\n",
        "c) Kepadatan Penduduk Rendah (1) dengan luas wilayah kurang dari 95.535016 \n"
      ]
    },
    {
      "cell_type": "code",
      "metadata": {
        "id": "VlqfDEclyx6-"
      },
      "source": [
        "def label_encoding_population_status(x):\n",
        "    if x >= 240.130316 :\n",
        "        return 3\n",
        "    elif x >= 95.535016:\n",
        "        return 2\n",
        "    else: \n",
        "        return 1"
      ],
      "execution_count": 57,
      "outputs": []
    },
    {
      "cell_type": "code",
      "metadata": {
        "id": "siuof_wRzKI-"
      },
      "source": [
        "df1['population_status'] = df1['population_density'].apply(label_encoding_population_status)"
      ],
      "execution_count": 58,
      "outputs": []
    },
    {
      "cell_type": "code",
      "metadata": {
        "colab": {
          "base_uri": "https://localhost:8080/",
          "height": 0
        },
        "id": "SRvhWEfz0JPd",
        "outputId": "51f30dfb-016b-4eeb-fc35-1b396c118385"
      },
      "source": [
        "df1.head(5)"
      ],
      "execution_count": 59,
      "outputs": [
        {
          "output_type": "execute_result",
          "data": {
            "text/html": [
              "<div>\n",
              "<style scoped>\n",
              "    .dataframe tbody tr th:only-of-type {\n",
              "        vertical-align: middle;\n",
              "    }\n",
              "\n",
              "    .dataframe tbody tr th {\n",
              "        vertical-align: top;\n",
              "    }\n",
              "\n",
              "    .dataframe thead th {\n",
              "        text-align: right;\n",
              "    }\n",
              "</style>\n",
              "<table border=\"1\" class=\"dataframe\">\n",
              "  <thead>\n",
              "    <tr style=\"text-align: right;\">\n",
              "      <th></th>\n",
              "      <th>iso_code</th>\n",
              "      <th>country</th>\n",
              "      <th>2021_last_updated</th>\n",
              "      <th>2020_population</th>\n",
              "      <th>area</th>\n",
              "      <th>growth_rate</th>\n",
              "      <th>rank</th>\n",
              "      <th>country_size</th>\n",
              "      <th>population_density</th>\n",
              "      <th>population_status</th>\n",
              "    </tr>\n",
              "  </thead>\n",
              "  <tbody>\n",
              "    <tr>\n",
              "      <th>0</th>\n",
              "      <td>CHN</td>\n",
              "      <td>China</td>\n",
              "      <td>1444751667</td>\n",
              "      <td>1439323776</td>\n",
              "      <td>9706961</td>\n",
              "      <td>0.34</td>\n",
              "      <td>1</td>\n",
              "      <td>3</td>\n",
              "      <td>148.836661</td>\n",
              "      <td>2</td>\n",
              "    </tr>\n",
              "    <tr>\n",
              "      <th>1</th>\n",
              "      <td>IND</td>\n",
              "      <td>India</td>\n",
              "      <td>1394894266</td>\n",
              "      <td>1380004385</td>\n",
              "      <td>3287590</td>\n",
              "      <td>0.97</td>\n",
              "      <td>2</td>\n",
              "      <td>3</td>\n",
              "      <td>424.290823</td>\n",
              "      <td>3</td>\n",
              "    </tr>\n",
              "    <tr>\n",
              "      <th>2</th>\n",
              "      <td>USA</td>\n",
              "      <td>United States</td>\n",
              "      <td>333129986</td>\n",
              "      <td>331002651</td>\n",
              "      <td>9372610</td>\n",
              "      <td>0.58</td>\n",
              "      <td>3</td>\n",
              "      <td>3</td>\n",
              "      <td>35.542926</td>\n",
              "      <td>1</td>\n",
              "    </tr>\n",
              "    <tr>\n",
              "      <th>3</th>\n",
              "      <td>IDN</td>\n",
              "      <td>Indonesia</td>\n",
              "      <td>276676718</td>\n",
              "      <td>273523615</td>\n",
              "      <td>1904569</td>\n",
              "      <td>1.04</td>\n",
              "      <td>4</td>\n",
              "      <td>3</td>\n",
              "      <td>145.269989</td>\n",
              "      <td>2</td>\n",
              "    </tr>\n",
              "    <tr>\n",
              "      <th>4</th>\n",
              "      <td>PAK</td>\n",
              "      <td>Pakistan</td>\n",
              "      <td>225674528</td>\n",
              "      <td>220892340</td>\n",
              "      <td>881912</td>\n",
              "      <td>1.95</td>\n",
              "      <td>5</td>\n",
              "      <td>3</td>\n",
              "      <td>255.892343</td>\n",
              "      <td>3</td>\n",
              "    </tr>\n",
              "  </tbody>\n",
              "</table>\n",
              "</div>"
            ],
            "text/plain": [
              "  iso_code        country  ...  population_density  population_status\n",
              "0      CHN          China  ...          148.836661                  2\n",
              "1      IND          India  ...          424.290823                  3\n",
              "2      USA  United States  ...           35.542926                  1\n",
              "3      IDN      Indonesia  ...          145.269989                  2\n",
              "4      PAK       Pakistan  ...          255.892343                  3\n",
              "\n",
              "[5 rows x 10 columns]"
            ]
          },
          "metadata": {},
          "execution_count": 59
        }
      ]
    },
    {
      "cell_type": "markdown",
      "metadata": {
        "id": "tdZLqeS30YyD"
      },
      "source": [
        "Berapa banyak negara yang tergolong memiliki kepadatan penduduk yang tinggi, sedang dan rendah?"
      ]
    },
    {
      "cell_type": "code",
      "metadata": {
        "colab": {
          "base_uri": "https://localhost:8080/",
          "height": 0
        },
        "id": "qr2fuiZ60hGW",
        "outputId": "960e4a0f-f18d-4313-d792-de7ccc93e9dd"
      },
      "source": [
        "df1['population_status'].value_counts().plot(kind='bar')\n",
        "plt.title(\"Population Density\")\n",
        "plt.show()"
      ],
      "execution_count": 60,
      "outputs": [
        {
          "output_type": "display_data",
          "data": {
            "image/png": "[encoded data removed]",
            "text/plain": [
              "<Figure size 432x288 with 1 Axes>"
            ]
          },
          "metadata": {}
        }
      ]
    },
    {
      "cell_type": "code",
      "metadata": {
        "colab": {
          "base_uri": "https://localhost:8080/",
          "height": 0
        },
        "id": "LXYuOBBN7BAn",
        "outputId": "0ec46f09-a829-439a-8d87-724103b10cb1"
      },
      "source": [
        "display(df1.sort_values(by=['population_density'],ascending=False)) #Negara terpadat"
      ],
      "execution_count": 61,
      "outputs": [
        {
          "output_type": "display_data",
          "data": {
            "text/html": [
              "<div>\n",
              "<style scoped>\n",
              "    .dataframe tbody tr th:only-of-type {\n",
              "        vertical-align: middle;\n",
              "    }\n",
              "\n",
              "    .dataframe tbody tr th {\n",
              "        vertical-align: top;\n",
              "    }\n",
              "\n",
              "    .dataframe thead th {\n",
              "        text-align: right;\n",
              "    }\n",
              "</style>\n",
              "<table border=\"1\" class=\"dataframe\">\n",
              "  <thead>\n",
              "    <tr style=\"text-align: right;\">\n",
              "      <th></th>\n",
              "      <th>iso_code</th>\n",
              "      <th>country</th>\n",
              "      <th>2021_last_updated</th>\n",
              "      <th>2020_population</th>\n",
              "      <th>area</th>\n",
              "      <th>growth_rate</th>\n",
              "      <th>rank</th>\n",
              "      <th>country_size</th>\n",
              "      <th>population_density</th>\n",
              "      <th>population_status</th>\n",
              "    </tr>\n",
              "  </thead>\n",
              "  <tbody>\n",
              "    <tr>\n",
              "      <th>165</th>\n",
              "      <td>MAC</td>\n",
              "      <td>Macau</td>\n",
              "      <td>659447</td>\n",
              "      <td>649335</td>\n",
              "      <td>30</td>\n",
              "      <td>1.40</td>\n",
              "      <td>167</td>\n",
              "      <td>1</td>\n",
              "      <td>21981.566667</td>\n",
              "      <td>3</td>\n",
              "    </tr>\n",
              "    <tr>\n",
              "      <th>209</th>\n",
              "      <td>MCO</td>\n",
              "      <td>Monaco</td>\n",
              "      <td>39511</td>\n",
              "      <td>39242</td>\n",
              "      <td>2</td>\n",
              "      <td>0.69</td>\n",
              "      <td>213</td>\n",
              "      <td>1</td>\n",
              "      <td>19755.500000</td>\n",
              "      <td>3</td>\n",
              "    </tr>\n",
              "    <tr>\n",
              "      <th>113</th>\n",
              "      <td>SGP</td>\n",
              "      <td>Singapore</td>\n",
              "      <td>5902034</td>\n",
              "      <td>5850342</td>\n",
              "      <td>710</td>\n",
              "      <td>0.79</td>\n",
              "      <td>114</td>\n",
              "      <td>1</td>\n",
              "      <td>8312.723944</td>\n",
              "      <td>3</td>\n",
              "    </tr>\n",
              "    <tr>\n",
              "      <th>103</th>\n",
              "      <td>HKG</td>\n",
              "      <td>Hong Kong</td>\n",
              "      <td>7559008</td>\n",
              "      <td>7496981</td>\n",
              "      <td>1104</td>\n",
              "      <td>0.74</td>\n",
              "      <td>104</td>\n",
              "      <td>1</td>\n",
              "      <td>6846.927536</td>\n",
              "      <td>3</td>\n",
              "    </tr>\n",
              "    <tr>\n",
              "      <th>214</th>\n",
              "      <td>GIB</td>\n",
              "      <td>Gibraltar</td>\n",
              "      <td>33698</td>\n",
              "      <td>33691</td>\n",
              "      <td>6</td>\n",
              "      <td>0.02</td>\n",
              "      <td>218</td>\n",
              "      <td>1</td>\n",
              "      <td>5616.333333</td>\n",
              "      <td>3</td>\n",
              "    </tr>\n",
              "    <tr>\n",
              "      <th>...</th>\n",
              "      <td>...</td>\n",
              "      <td>...</td>\n",
              "      <td>...</td>\n",
              "      <td>...</td>\n",
              "      <td>...</td>\n",
              "      <td>...</td>\n",
              "      <td>...</td>\n",
              "      <td>...</td>\n",
              "      <td>...</td>\n",
              "      <td>...</td>\n",
              "    </tr>\n",
              "    <tr>\n",
              "      <th>142</th>\n",
              "      <td>NAM</td>\n",
              "      <td>Namibia</td>\n",
              "      <td>2592448</td>\n",
              "      <td>2540905</td>\n",
              "      <td>825615</td>\n",
              "      <td>1.83</td>\n",
              "      <td>143</td>\n",
              "      <td>3</td>\n",
              "      <td>3.140020</td>\n",
              "      <td>1</td>\n",
              "    </tr>\n",
              "    <tr>\n",
              "      <th>168</th>\n",
              "      <td>ESH</td>\n",
              "      <td>Western Sahara</td>\n",
              "      <td>613455</td>\n",
              "      <td>597339</td>\n",
              "      <td>266000</td>\n",
              "      <td>2.43</td>\n",
              "      <td>170</td>\n",
              "      <td>2</td>\n",
              "      <td>2.306222</td>\n",
              "      <td>1</td>\n",
              "    </tr>\n",
              "    <tr>\n",
              "      <th>134</th>\n",
              "      <td>MNG</td>\n",
              "      <td>Mongolia</td>\n",
              "      <td>3334920</td>\n",
              "      <td>3278290</td>\n",
              "      <td>1564110</td>\n",
              "      <td>1.56</td>\n",
              "      <td>135</td>\n",
              "      <td>3</td>\n",
              "      <td>2.132152</td>\n",
              "      <td>1</td>\n",
              "    </tr>\n",
              "    <tr>\n",
              "      <th>224</th>\n",
              "      <td>FLK</td>\n",
              "      <td>Falkland Islands</td>\n",
              "      <td>3533</td>\n",
              "      <td>3480</td>\n",
              "      <td>12173</td>\n",
              "      <td>1.52</td>\n",
              "      <td>229</td>\n",
              "      <td>1</td>\n",
              "      <td>0.290232</td>\n",
              "      <td>1</td>\n",
              "    </tr>\n",
              "    <tr>\n",
              "      <th>204</th>\n",
              "      <td>GRL</td>\n",
              "      <td>Greenland</td>\n",
              "      <td>56877</td>\n",
              "      <td>56770</td>\n",
              "      <td>2166086</td>\n",
              "      <td>0.19</td>\n",
              "      <td>208</td>\n",
              "      <td>3</td>\n",
              "      <td>0.026258</td>\n",
              "      <td>1</td>\n",
              "    </tr>\n",
              "  </tbody>\n",
              "</table>\n",
              "<p>228 rows × 10 columns</p>\n",
              "</div>"
            ],
            "text/plain": [
              "    iso_code           country  ...  population_density  population_status\n",
              "165      MAC             Macau  ...        21981.566667                  3\n",
              "209      MCO            Monaco  ...        19755.500000                  3\n",
              "113      SGP         Singapore  ...         8312.723944                  3\n",
              "103      HKG         Hong Kong  ...         6846.927536                  3\n",
              "214      GIB         Gibraltar  ...         5616.333333                  3\n",
              "..       ...               ...  ...                 ...                ...\n",
              "142      NAM           Namibia  ...            3.140020                  1\n",
              "168      ESH    Western Sahara  ...            2.306222                  1\n",
              "134      MNG          Mongolia  ...            2.132152                  1\n",
              "224      FLK  Falkland Islands  ...            0.290232                  1\n",
              "204      GRL         Greenland  ...            0.026258                  1\n",
              "\n",
              "[228 rows x 10 columns]"
            ]
          },
          "metadata": {}
        }
      ]
    },
    {
      "cell_type": "markdown",
      "metadata": {
        "id": "3ZGCINqU7Lbg"
      },
      "source": [
        "Dari hasil diatas dapat diketahui bahwa Macau merupakan negara terpadat dibandingkan negara-negara lain, sedangkan greenland merupakan negara dengan kepadatan paling rendah dibandingkan negara-negara lainnya."
      ]
    },
    {
      "cell_type": "markdown",
      "metadata": {
        "id": "wa3M4iJDmNFf"
      },
      "source": [
        "#Correlation Analysis"
      ]
    },
    {
      "cell_type": "code",
      "metadata": {
        "colab": {
          "base_uri": "https://localhost:8080/",
          "height": 299
        },
        "id": "AoKVoIPSmQe6",
        "outputId": "36717f09-1095-4a00-a70c-4705f20bc7d0"
      },
      "source": [
        "df1_corr = df1.corr()\n",
        "df1_corr"
      ],
      "execution_count": 62,
      "outputs": [
        {
          "output_type": "execute_result",
          "data": {
            "text/html": [
              "<div>\n",
              "<style scoped>\n",
              "    .dataframe tbody tr th:only-of-type {\n",
              "        vertical-align: middle;\n",
              "    }\n",
              "\n",
              "    .dataframe tbody tr th {\n",
              "        vertical-align: top;\n",
              "    }\n",
              "\n",
              "    .dataframe thead th {\n",
              "        text-align: right;\n",
              "    }\n",
              "</style>\n",
              "<table border=\"1\" class=\"dataframe\">\n",
              "  <thead>\n",
              "    <tr style=\"text-align: right;\">\n",
              "      <th></th>\n",
              "      <th>2021_last_updated</th>\n",
              "      <th>2020_population</th>\n",
              "      <th>area</th>\n",
              "      <th>growth_rate</th>\n",
              "      <th>rank</th>\n",
              "      <th>country_size</th>\n",
              "      <th>population_density</th>\n",
              "      <th>population_status</th>\n",
              "    </tr>\n",
              "  </thead>\n",
              "  <tbody>\n",
              "    <tr>\n",
              "      <th>2021_last_updated</th>\n",
              "      <td>1.000000</td>\n",
              "      <td>0.999987</td>\n",
              "      <td>0.454305</td>\n",
              "      <td>-0.007362</td>\n",
              "      <td>-0.355933</td>\n",
              "      <td>0.297773</td>\n",
              "      <td>-0.028218</td>\n",
              "      <td>0.072170</td>\n",
              "    </tr>\n",
              "    <tr>\n",
              "      <th>2020_population</th>\n",
              "      <td>0.999987</td>\n",
              "      <td>1.000000</td>\n",
              "      <td>0.455089</td>\n",
              "      <td>-0.009325</td>\n",
              "      <td>-0.354802</td>\n",
              "      <td>0.296570</td>\n",
              "      <td>-0.028088</td>\n",
              "      <td>0.072250</td>\n",
              "    </tr>\n",
              "    <tr>\n",
              "      <th>area</th>\n",
              "      <td>0.454305</td>\n",
              "      <td>0.455089</td>\n",
              "      <td>1.000000</td>\n",
              "      <td>0.004447</td>\n",
              "      <td>-0.382576</td>\n",
              "      <td>0.456286</td>\n",
              "      <td>-0.063835</td>\n",
              "      <td>-0.206378</td>\n",
              "    </tr>\n",
              "    <tr>\n",
              "      <th>growth_rate</th>\n",
              "      <td>-0.007362</td>\n",
              "      <td>-0.009325</td>\n",
              "      <td>0.004447</td>\n",
              "      <td>1.000000</td>\n",
              "      <td>-0.272069</td>\n",
              "      <td>0.332890</td>\n",
              "      <td>-0.030913</td>\n",
              "      <td>-0.203415</td>\n",
              "    </tr>\n",
              "    <tr>\n",
              "      <th>rank</th>\n",
              "      <td>-0.355933</td>\n",
              "      <td>-0.354802</td>\n",
              "      <td>-0.382576</td>\n",
              "      <td>-0.272069</td>\n",
              "      <td>1.000000</td>\n",
              "      <td>-0.732036</td>\n",
              "      <td>0.134843</td>\n",
              "      <td>0.189153</td>\n",
              "    </tr>\n",
              "    <tr>\n",
              "      <th>country_size</th>\n",
              "      <td>0.297773</td>\n",
              "      <td>0.296570</td>\n",
              "      <td>0.456286</td>\n",
              "      <td>0.332890</td>\n",
              "      <td>-0.732036</td>\n",
              "      <td>1.000000</td>\n",
              "      <td>-0.163167</td>\n",
              "      <td>-0.473684</td>\n",
              "    </tr>\n",
              "    <tr>\n",
              "      <th>population_density</th>\n",
              "      <td>-0.028218</td>\n",
              "      <td>-0.028088</td>\n",
              "      <td>-0.063835</td>\n",
              "      <td>-0.030913</td>\n",
              "      <td>0.134843</td>\n",
              "      <td>-0.163167</td>\n",
              "      <td>1.000000</td>\n",
              "      <td>0.284274</td>\n",
              "    </tr>\n",
              "    <tr>\n",
              "      <th>population_status</th>\n",
              "      <td>0.072170</td>\n",
              "      <td>0.072250</td>\n",
              "      <td>-0.206378</td>\n",
              "      <td>-0.203415</td>\n",
              "      <td>0.189153</td>\n",
              "      <td>-0.473684</td>\n",
              "      <td>0.284274</td>\n",
              "      <td>1.000000</td>\n",
              "    </tr>\n",
              "  </tbody>\n",
              "</table>\n",
              "</div>"
            ],
            "text/plain": [
              "                    2021_last_updated  ...  population_status\n",
              "2021_last_updated            1.000000  ...           0.072170\n",
              "2020_population              0.999987  ...           0.072250\n",
              "area                         0.454305  ...          -0.206378\n",
              "growth_rate                 -0.007362  ...          -0.203415\n",
              "rank                        -0.355933  ...           0.189153\n",
              "country_size                 0.297773  ...          -0.473684\n",
              "population_density          -0.028218  ...           0.284274\n",
              "population_status            0.072170  ...           1.000000\n",
              "\n",
              "[8 rows x 8 columns]"
            ]
          },
          "metadata": {},
          "execution_count": 62
        }
      ]
    },
    {
      "cell_type": "code",
      "metadata": {
        "colab": {
          "base_uri": "https://localhost:8080/",
          "height": 814
        },
        "id": "SladVC4JmZ_g",
        "outputId": "12663ec5-7ae2-410d-ac2d-974f821f7e36"
      },
      "source": [
        "df1_corr = df1.corr()\n",
        "mask = np.zeros_like(df1_corr)\n",
        "mask[np.triu_indices_from(mask)] = True\n",
        "\n",
        "fig, ax = plt.subplots(figsize=(15, 12))\n",
        "ax = sns.heatmap(df1_corr,mask=mask, \n",
        "                 annot=True, annot_kws={'size':8}, fmt=\".2f\")\n",
        "plt.title(\"Pearson Correlation Heatmap\")\n",
        "plt.show()"
      ],
      "execution_count": 63,
      "outputs": [
        {
          "output_type": "display_data",
          "data": {
            "image/png": "[encoded data removed]",
            "text/plain": [
              "<Figure size 1080x864 with 2 Axes>"
            ]
          },
          "metadata": {}
        }
      ]
    },
    {
      "cell_type": "markdown",
      "metadata": {
        "id": "YZqLnBjjoS2n"
      },
      "source": [
        "Dari hasil korelasi diatas dapat diketahui bahwa:\n",
        "\n",
        "- Jumlah populasi 2020 berkorelasi sangat kuat dengan jumlah populasi 2021, yaitu 1.00\n",
        "\n",
        "- area memiliki korelasi yang cukup kuat dengan jumlah populasi yakni 0.45 dengan populasi tahun 2021 dan 0.46 dengan populasi tahun 2020, yang berarti luas area cukup berpengaruh pada banyaknya populasi pada suatu wilayah atau negara.\n",
        "\n",
        "- country size memiliki korelasi yang sangat kuat dengan rank (high negative correlation) yaitu -0.73, yang berarti semakin besar area suatu negara dapat berpengaruh besar terhadap rank negara tersebut.\n",
        "\n",
        "- population status memiliki korelasi yang cukup kuat dengan country size yaitu -0.47 (negative correlation)."
      ]
    },
    {
      "cell_type": "markdown",
      "metadata": {
        "id": "NsMoPtGkqwf-"
      },
      "source": [
        "#Simple Linear Regression"
      ]
    },
    {
      "cell_type": "markdown",
      "metadata": {
        "id": "gFz8X8--PGeN"
      },
      "source": [
        "Pada machine learning yang dibuat akan memprediksi jumlah populasi pada tahun 2021 berdasarkan pada jumlah populasi yang ada pada tahun 2020."
      ]
    },
    {
      "cell_type": "markdown",
      "metadata": {
        "id": "ikvKvScaq1x8"
      },
      "source": [
        "Import Libraries"
      ]
    },
    {
      "cell_type": "code",
      "metadata": {
        "id": "7FOdVzZIrHwj"
      },
      "source": [
        "import matplotlib.pyplot as plt\n",
        "from sklearn.linear_model import LinearRegression\n",
        "from sklearn.model_selection import train_test_split"
      ],
      "execution_count": 64,
      "outputs": []
    },
    {
      "cell_type": "markdown",
      "metadata": {
        "id": "rUAcU0XyrPlF"
      },
      "source": [
        "Membuat Variabel x dan y"
      ]
    },
    {
      "cell_type": "code",
      "metadata": {
        "id": "SVwBw6c7E67u"
      },
      "source": [
        "#Pertama, buat variabel x dan y.\n",
        "x = df1['2020_population'].values.reshape(-1,1)\n",
        "y = df1['2021_last_updated'].values.reshape(-1,1)"
      ],
      "execution_count": 65,
      "outputs": []
    },
    {
      "cell_type": "markdown",
      "metadata": {
        "id": "RuyoQqBvsqJt"
      },
      "source": [
        "Split Data dengan porsi 80:20"
      ]
    },
    {
      "cell_type": "code",
      "metadata": {
        "id": "ROvUvu14FlNZ"
      },
      "source": [
        "x_train, x_test, y_train, y_test = train_test_split(x, y, test_size=0.2)"
      ],
      "execution_count": 66,
      "outputs": []
    },
    {
      "cell_type": "markdown",
      "metadata": {
        "id": "rsIOUZ9MFwEd"
      },
      "source": [
        "membuat object linear regression"
      ]
    },
    {
      "cell_type": "code",
      "metadata": {
        "id": "T3DdK-PoF2bt"
      },
      "source": [
        "lin_reg = LinearRegression()"
      ],
      "execution_count": 67,
      "outputs": []
    },
    {
      "cell_type": "markdown",
      "metadata": {
        "id": "vdpTu5GdF6wo"
      },
      "source": [
        "Melakukan training model dengan data yang sudah displit"
      ]
    },
    {
      "cell_type": "code",
      "metadata": {
        "colab": {
          "base_uri": "https://localhost:8080/"
        },
        "id": "0yI4p5tnF-7D",
        "outputId": "7d02bdb7-3fc2-489c-ca82-d4ad1bc7087f"
      },
      "source": [
        "lin_reg.fit(x_train, y_train)"
      ],
      "execution_count": 68,
      "outputs": [
        {
          "output_type": "execute_result",
          "data": {
            "text/plain": [
              "LinearRegression(copy_X=True, fit_intercept=True, n_jobs=None, normalize=False)"
            ]
          },
          "metadata": {},
          "execution_count": 68
        }
      ]
    },
    {
      "cell_type": "markdown",
      "metadata": {
        "id": "JREay_YkGA1M"
      },
      "source": [
        "mencari tau nilai slope/koefisien (m) dan intercept (b)"
      ]
    },
    {
      "cell_type": "code",
      "metadata": {
        "colab": {
          "base_uri": "https://localhost:8080/"
        },
        "id": "lJwKjBZtGIpx",
        "outputId": "f9c8b97f-61d5-48b3-d8f1-044b7a3a23be"
      },
      "source": [
        "print(lin_reg.coef_)\n",
        "print(lin_reg.intercept_)"
      ],
      "execution_count": 69,
      "outputs": [
        {
          "output_type": "stream",
          "name": "stdout",
          "text": [
            "[[1.00757067]]\n",
            "[159933.49831551]\n"
          ]
        }
      ]
    },
    {
      "cell_type": "markdown",
      "metadata": {
        "id": "zyLPeLlYGMY2"
      },
      "source": [
        "Dari nilai m dan b diatas, kalau dimasukan ke dalam rumus menjadi:\n",
        "Y = 1.005x — 191721.733"
      ]
    },
    {
      "cell_type": "markdown",
      "metadata": {
        "id": "2sw28CyVGYvs"
      },
      "source": [
        "Selanjutnya, mencari tahu accuracy score dari model kita menggunakan testing data yang sudah displit sebelumnya"
      ]
    },
    {
      "cell_type": "code",
      "metadata": {
        "colab": {
          "base_uri": "https://localhost:8080/"
        },
        "id": "8WWP4ig3GgUb",
        "outputId": "ee602ca7-5809-4253-f914-0dfb3cbcbb0b"
      },
      "source": [
        "lin_reg.score(x_test, y_test)"
      ],
      "execution_count": 70,
      "outputs": [
        {
          "output_type": "execute_result",
          "data": {
            "text/plain": [
              "0.9999795544258113"
            ]
          },
          "metadata": {},
          "execution_count": 70
        }
      ]
    },
    {
      "cell_type": "markdown",
      "metadata": {
        "id": "geDBTdAVGrDc"
      },
      "source": [
        "Maka model yang dibuat mendapatkan accuracy score sebesar 99.9%"
      ]
    },
    {
      "cell_type": "markdown",
      "metadata": {
        "id": "g4q_GBBiG7tU"
      },
      "source": [
        "Kemudian dilakukan visualisasi Regression Line menggunakan data testing"
      ]
    },
    {
      "cell_type": "code",
      "metadata": {
        "colab": {
          "base_uri": "https://localhost:8080/",
          "height": 319
        },
        "id": "es_1grmbG9xP",
        "outputId": "d1fdb723-dc1a-4866-aa69-7dc84c07186b"
      },
      "source": [
        "y_prediksi = lin_reg.predict(x_test)\n",
        "plt.scatter(x_test, y_test)\n",
        "plt.plot(x_test, y_prediksi, c='r')\n",
        "plt.xlabel('Populasi 2020')\n",
        "plt.ylabel('Populasi 2021')\n",
        "plt.title('Populasi 2020 vs Populasi 2021')"
      ],
      "execution_count": 71,
      "outputs": [
        {
          "output_type": "execute_result",
          "data": {
            "text/plain": [
              "Text(0.5, 1.0, 'Populasi 2020 vs Populasi 2021')"
            ]
          },
          "metadata": {},
          "execution_count": 71
        },
        {
          "output_type": "display_data",
          "data": {
            "image/png": "[encoded data removed]",
            "text/plain": [
              "<Figure size 432x288 with 1 Axes>"
            ]
          },
          "metadata": {}
        }
      ]
    },
    {
      "cell_type": "markdown",
      "metadata": {
        "id": "lrMXvqMsHRZM"
      },
      "source": [
        "Setelah yakin dengan model yang dibuat, selanjutnya adalah prediksi jumlah populasi 2021 dengan populasi 2020 sebanyak 150000 jiwa"
      ]
    },
    {
      "cell_type": "code",
      "metadata": {
        "colab": {
          "base_uri": "https://localhost:8080/"
        },
        "id": "tnGORHKTHZl4",
        "outputId": "449db3c9-f970-491f-d0ee-7da1fef87e5d"
      },
      "source": [
        "lin_reg.predict([[50000]])"
      ],
      "execution_count": 73,
      "outputs": [
        {
          "output_type": "execute_result",
          "data": {
            "text/plain": [
              "array([[210312.0317799]])"
            ]
          },
          "metadata": {},
          "execution_count": 73
        }
      ]
    },
    {
      "cell_type": "markdown",
      "metadata": {
        "id": "aKN2LhA3HedE"
      },
      "source": [
        "jumlah populasi pada tahun 2021 berdasarkan populasi tahun 2020 sebanyak 50.000 jiwa adalah 210.312 jiwa"
      ]
    }
  ]
}